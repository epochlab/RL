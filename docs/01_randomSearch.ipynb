{
 "cells": [
  {
   "cell_type": "markdown",
   "id": "74ec4864",
   "metadata": {},
   "source": [
    "# randomSearch || Epoch Laboratory\n",
    "\n",
    "The goal of this game is to go from the starting state (S) to the goal state (G) by walking only on frozen tiles (F) and avoid holes (H).However, the ice is slippery, so you won't always move in the direction you intend (stochastic environment)"
   ]
  },
  {
   "cell_type": "code",
   "execution_count": 1,
   "id": "ccfb12f1",
   "metadata": {},
   "outputs": [],
   "source": [
    "import gym, random\n",
    "\n",
    "from IPython.display import clear_output"
   ]
  },
  {
   "cell_type": "markdown",
   "id": "d3e80233",
   "metadata": {},
   "source": [
    "### Define environment"
   ]
  },
  {
   "cell_type": "code",
   "execution_count": 2,
   "id": "487afe90",
   "metadata": {},
   "outputs": [],
   "source": [
    "ENV_NAME = 'FrozenLake-v0'"
   ]
  },
  {
   "cell_type": "code",
   "execution_count": 3,
   "id": "1a626d64",
   "metadata": {},
   "outputs": [],
   "source": [
    "env = gym.make(ENV_NAME)"
   ]
  },
  {
   "cell_type": "code",
   "execution_count": 4,
   "id": "9b0503fe",
   "metadata": {},
   "outputs": [
    {
     "name": "stdout",
     "output_type": "stream",
     "text": [
      "States: Discrete(16)\n",
      "Actions: 4\n"
     ]
    }
   ],
   "source": [
    "num_states = env.observation_space\n",
    "num_actions = env.action_space.n\n",
    "\n",
    "print('States:', num_states)\n",
    "print('Actions:', num_actions)"
   ]
  },
  {
   "cell_type": "code",
   "execution_count": 5,
   "id": "e143e460",
   "metadata": {},
   "outputs": [
    {
     "name": "stdout",
     "output_type": "stream",
     "text": [
      "\n",
      "\u001b[41mS\u001b[0mFFF\n",
      "FHFH\n",
      "FFFH\n",
      "HFFG\n"
     ]
    }
   ],
   "source": [
    "env.seed(123)\n",
    "env.render()"
   ]
  },
  {
   "cell_type": "code",
   "execution_count": 6,
   "id": "a0f3fe1e",
   "metadata": {},
   "outputs": [
    {
     "data": {
      "text/plain": [
       "0"
      ]
     },
     "execution_count": 6,
     "metadata": {},
     "output_type": "execute_result"
    }
   ],
   "source": [
    "env.reset()"
   ]
  },
  {
   "cell_type": "markdown",
   "id": "04ec6725",
   "metadata": {},
   "source": [
    "### Explore scenario using random search"
   ]
  },
  {
   "cell_type": "code",
   "execution_count": 7,
   "id": "0b7675f1",
   "metadata": {},
   "outputs": [],
   "source": [
    "episodes = 100"
   ]
  },
  {
   "cell_type": "code",
   "execution_count": 8,
   "id": "8eb23540",
   "metadata": {},
   "outputs": [
    {
     "name": "stdout",
     "output_type": "stream",
     "text": [
      "  (Down)\n",
      "SFFF\n",
      "\u001b[41mF\u001b[0mHFH\n",
      "FFFH\n",
      "HFFG\n"
     ]
    }
   ],
   "source": [
    "for i in range(episodes):\n",
    "    env.reset()\n",
    "    done = False\n",
    "    \n",
    "    while not done:\n",
    "        clear_output(wait=True)\n",
    "        env.render()\n",
    "        action = random.choice([0,1,2,3])\n",
    "        observation, reward, done, info = env.step(action)"
   ]
  }
 ],
 "metadata": {
  "kernelspec": {
   "display_name": "Python 3",
   "language": "python",
   "name": "python3"
  },
  "language_info": {
   "codemirror_mode": {
    "name": "ipython",
    "version": 3
   },
   "file_extension": ".py",
   "mimetype": "text/x-python",
   "name": "python",
   "nbconvert_exporter": "python",
   "pygments_lexer": "ipython3",
   "version": "3.7.10"
  }
 },
 "nbformat": 4,
 "nbformat_minor": 5
}
