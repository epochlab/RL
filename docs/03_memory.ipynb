{
 "cells": [
  {
   "cell_type": "markdown",
   "id": "7919f146",
   "metadata": {},
   "source": [
    "# Memory || EPOCH Laboratory"
   ]
  },
  {
   "cell_type": "code",
   "execution_count": 1,
   "id": "8a0df6ed",
   "metadata": {},
   "outputs": [
    {
     "name": "stdout",
     "output_type": "stream",
     "text": [
      "Populating the interactive namespace from numpy and matplotlib\n"
     ]
    }
   ],
   "source": [
    "%pylab inline\n",
    "import gym, random\n",
    "\n",
    "from skimage import transform\n",
    "from collections import deque\n",
    "from IPython.display import clear_output"
   ]
  },
  {
   "cell_type": "markdown",
   "id": "1a6c5125",
   "metadata": {},
   "source": [
    "### Define Environment"
   ]
  },
  {
   "cell_type": "code",
   "execution_count": 2,
   "id": "52f7a5ab",
   "metadata": {},
   "outputs": [],
   "source": [
    "env = gym.make(\"Pong-v0\")"
   ]
  },
  {
   "cell_type": "code",
   "execution_count": 3,
   "id": "278238fb",
   "metadata": {},
   "outputs": [
    {
     "name": "stdout",
     "output_type": "stream",
     "text": [
      "Frame: Box(210, 160, 3)\n",
      "States: 210\n",
      "Actions: 6\n"
     ]
    },
    {
     "data": {
      "text/plain": [
       "['NOOP', 'FIRE', 'RIGHT', 'LEFT', 'RIGHTFIRE', 'LEFTFIRE']"
      ]
     },
     "execution_count": 3,
     "metadata": {},
     "output_type": "execute_result"
    }
   ],
   "source": [
    "frame = env.observation_space\n",
    "num_states = env.observation_space.shape\n",
    "num_actions = env.action_space.n\n",
    "\n",
    "print('Frame:', frame)\n",
    "print('States:', num_states[0])\n",
    "print('Actions:', num_actions)\n",
    "\n",
    "env.env.get_action_meanings()"
   ]
  },
  {
   "cell_type": "markdown",
   "id": "1a9add3e",
   "metadata": {},
   "source": [
    "### Explore environment using random choice"
   ]
  },
  {
   "cell_type": "code",
   "execution_count": 4,
   "id": "46ed88de",
   "metadata": {},
   "outputs": [
    {
     "data": {
      "image/png": "[encoded data removed]",
      "text/plain": [
       "<Figure size 432x288 with 1 Axes>"
      ]
     },
     "metadata": {
      "needs_background": "light"
     },
     "output_type": "display_data"
    },
    {
     "name": "stdout",
     "output_type": "stream",
     "text": [
      "(210, 160, 3)\n"
     ]
    }
   ],
   "source": [
    "state = env.reset()\n",
    "for i in range(50):\n",
    "    clear_output(wait=True)\n",
    "    action = random.choice([0,1,2,3,4,5])\n",
    "    x_state, _, _, _ = env.step(action)\n",
    "    plt.imshow(x_state)\n",
    "    plt.show()\n",
    "\n",
    "print(x_state.shape)"
   ]
  },
  {
   "cell_type": "markdown",
   "id": "b3d65711",
   "metadata": {},
   "source": [
    "### Hyper-Parameters"
   ]
  },
  {
   "cell_type": "code",
   "execution_count": 5,
   "id": "cfce8a1a",
   "metadata": {},
   "outputs": [],
   "source": [
    "INPUT_SHAPE = (84, 84)\n",
    "WINDOW_DEPTH = 4"
   ]
  },
  {
   "cell_type": "code",
   "execution_count": 6,
   "id": "1d9ec216",
   "metadata": {},
   "outputs": [],
   "source": [
    "state_size = [INPUT_SHAPE[0],INPUT_SHAPE[1],WINDOW_DEPTH]\n",
    "action_size = num_actions\n",
    "\n",
    "batch_size = 64"
   ]
  },
  {
   "cell_type": "code",
   "execution_count": 7,
   "id": "932622b5",
   "metadata": {},
   "outputs": [],
   "source": [
    "### Memory"
   ]
  },
  {
   "cell_type": "code",
   "execution_count": 8,
   "id": "e9016ac8",
   "metadata": {},
   "outputs": [],
   "source": [
    "def process_frame(frame):\n",
    "    img = frame[25:-8,:]\n",
    "    img = img.mean(axis=2)\n",
    "    img = transform.resize(img, [84,84])\n",
    "    n_img = img / 255.0  \n",
    "    \n",
    "    return n_img"
   ]
  },
  {
   "cell_type": "code",
   "execution_count": 9,
   "id": "8382f483",
   "metadata": {},
   "outputs": [
    {
     "data": {
      "text/plain": [
       "<matplotlib.colorbar.Colorbar at 0x7f28231316d0>"
      ]
     },
     "execution_count": 9,
     "metadata": {},
     "output_type": "execute_result"
    },
    {
     "data": {
      "image/png": "[encoded data removed]",
      "text/plain": [
       "<Figure size 432x288 with 2 Axes>"
      ]
     },
     "metadata": {
      "needs_background": "light"
     },
     "output_type": "display_data"
    }
   ],
   "source": [
    "img = process_frame(x_state)\n",
    "plt.imshow(img, cmap=\"gray\")\n",
    "plt.colorbar()"
   ]
  },
  {
   "cell_type": "code",
   "execution_count": 10,
   "id": "be986145",
   "metadata": {},
   "outputs": [],
   "source": [
    "def frame_buffer(stack_frames, state, new_episode):\n",
    "    frame = process_frame(state)\n",
    "    \n",
    "    if new_episode:\n",
    "        for _ in range(4):\n",
    "            stack_frames.append(frame)\n",
    "    \n",
    "    else:\n",
    "        stack_frames.append(frame)\n",
    "\n",
    "    stack_state = np.stack(stack_frames, axis=2)\n",
    "    \n",
    "    return stack_state, stack_frames"
   ]
  },
  {
   "cell_type": "code",
   "execution_count": 11,
   "id": "5345dc6b",
   "metadata": {},
   "outputs": [],
   "source": [
    "def mem_add(experience):\n",
    "    return memory.append(experience)"
   ]
  },
  {
   "cell_type": "code",
   "execution_count": 12,
   "id": "b503e92a",
   "metadata": {},
   "outputs": [],
   "source": [
    "def mem_sample(batch_size):\n",
    "    mem_size = len(memory)\n",
    "    index = np.random.choice(np.arange(buffer_size), size = batch_size, replace = False)\n",
    "    return [memory[i] for i in index]"
   ]
  },
  {
   "cell_type": "code",
   "execution_count": 13,
   "id": "8ad0f970",
   "metadata": {},
   "outputs": [],
   "source": [
    "memory = deque(maxlen=20000)"
   ]
  },
  {
   "cell_type": "code",
   "execution_count": 14,
   "id": "30462763",
   "metadata": {},
   "outputs": [],
   "source": [
    "stack_frames = deque([np.zeros(INPUT_SHAPE, dtype=int) for i in range(WINDOW_DEPTH)], maxlen=4)\n",
    "state = env.reset()\n",
    "state, stack_frames = frame_buffer(stack_frames, state, True)"
   ]
  },
  {
   "cell_type": "code",
   "execution_count": 15,
   "id": "c8ace3c5",
   "metadata": {},
   "outputs": [],
   "source": [
    "for i in range(batch_size):\n",
    "    action = random.choice([0,1,2,3,4,5])\n",
    "    n_state, reward, done, _ = env.step(action)\n",
    "    \n",
    "    n_state, stack_frames = frame_buffer(stack_frames, n_state, False)\n",
    "    \n",
    "    if done:\n",
    "        n_state = np.zeros(WINDOW_SIZE)\n",
    "        mem_add((state, action, reward, n_state, done))\n",
    "        state = env.reset()\n",
    "        state, stack_frames = frame_buffer(stack_frames, state, True)\n",
    "    else:\n",
    "        mem_add((state, action, reward, n_state, done))\n",
    "        state = n_state"
   ]
  },
  {
   "cell_type": "code",
   "execution_count": 16,
   "id": "68a3d907",
   "metadata": {
    "scrolled": true
   },
   "outputs": [
    {
     "name": "stdout",
     "output_type": "stream",
     "text": [
      "deque([array([[0.9254902, 0.9254902, 0.9254902, ..., 0.9254902, 0.9254902,\n",
      "        0.9254902],\n",
      "       [0.9254902, 0.9254902, 0.9254902, ..., 0.9254902, 0.9254902,\n",
      "        0.9254902],\n",
      "       [0.9254902, 0.9254902, 0.9254902, ..., 0.9254902, 0.9254902,\n",
      "        0.9254902],\n",
      "       ...,\n",
      "       [0.9254902, 0.9254902, 0.9254902, ..., 0.9254902, 0.9254902,\n",
      "        0.9254902],\n",
      "       [0.9254902, 0.9254902, 0.9254902, ..., 0.9254902, 0.9254902,\n",
      "        0.9254902],\n",
      "       [0.9254902, 0.9254902, 0.9254902, ..., 0.9254902, 0.9254902,\n",
      "        0.9254902]]), array([[0.9254902, 0.9254902, 0.9254902, ..., 0.9254902, 0.9254902,\n",
      "        0.9254902],\n",
      "       [0.9254902, 0.9254902, 0.9254902, ..., 0.9254902, 0.9254902,\n",
      "        0.9254902],\n",
      "       [0.9254902, 0.9254902, 0.9254902, ..., 0.9254902, 0.9254902,\n",
      "        0.9254902],\n",
      "       ...,\n",
      "       [0.9254902, 0.9254902, 0.9254902, ..., 0.9254902, 0.9254902,\n",
      "        0.9254902],\n",
      "       [0.9254902, 0.9254902, 0.9254902, ..., 0.9254902, 0.9254902,\n",
      "        0.9254902],\n",
      "       [0.9254902, 0.9254902, 0.9254902, ..., 0.9254902, 0.9254902,\n",
      "        0.9254902]]), array([[0.9254902, 0.9254902, 0.9254902, ..., 0.9254902, 0.9254902,\n",
      "        0.9254902],\n",
      "       [0.9254902, 0.9254902, 0.9254902, ..., 0.9254902, 0.9254902,\n",
      "        0.9254902],\n",
      "       [0.9254902, 0.9254902, 0.9254902, ..., 0.9254902, 0.9254902,\n",
      "        0.9254902],\n",
      "       ...,\n",
      "       [0.9254902, 0.9254902, 0.9254902, ..., 0.9254902, 0.9254902,\n",
      "        0.9254902],\n",
      "       [0.9254902, 0.9254902, 0.9254902, ..., 0.9254902, 0.9254902,\n",
      "        0.9254902],\n",
      "       [0.9254902, 0.9254902, 0.9254902, ..., 0.9254902, 0.9254902,\n",
      "        0.9254902]]), array([[0.9254902, 0.9254902, 0.9254902, ..., 0.9254902, 0.9254902,\n",
      "        0.9254902],\n",
      "       [0.9254902, 0.9254902, 0.9254902, ..., 0.9254902, 0.9254902,\n",
      "        0.9254902],\n",
      "       [0.9254902, 0.9254902, 0.9254902, ..., 0.9254902, 0.9254902,\n",
      "        0.9254902],\n",
      "       ...,\n",
      "       [0.9254902, 0.9254902, 0.9254902, ..., 0.9254902, 0.9254902,\n",
      "        0.9254902],\n",
      "       [0.9254902, 0.9254902, 0.9254902, ..., 0.9254902, 0.9254902,\n",
      "        0.9254902],\n",
      "       [0.9254902, 0.9254902, 0.9254902, ..., 0.9254902, 0.9254902,\n",
      "        0.9254902]])], maxlen=4)\n"
     ]
    },
    {
     "data": {
      "text/plain": [
       "<matplotlib.image.AxesImage at 0x7f2822f17a10>"
      ]
     },
     "execution_count": 16,
     "metadata": {},
     "output_type": "execute_result"
    },
    {
     "data": {
      "image/png": "[encoded data removed]",
      "text/plain": [
       "<Figure size 432x288 with 1 Axes>"
      ]
     },
     "metadata": {
      "needs_background": "light"
     },
     "output_type": "display_data"
    }
   ],
   "source": [
    "print(stack_frames)\n",
    "plt.imshow(state)"
   ]
  }
 ],
 "metadata": {
  "kernelspec": {
   "display_name": "Python 3",
   "language": "python",
   "name": "python3"
  },
  "language_info": {
   "codemirror_mode": {
    "name": "ipython",
    "version": 3
   },
   "file_extension": ".py",
   "mimetype": "text/x-python",
   "name": "python",
   "nbconvert_exporter": "python",
   "pygments_lexer": "ipython3",
   "version": "3.7.10"
  }
 },
 "nbformat": 4,
 "nbformat_minor": 5
}
