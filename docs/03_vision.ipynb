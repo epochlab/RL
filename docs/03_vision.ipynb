{
 "cells": [
  {
   "cell_type": "markdown",
   "id": "7919f146",
   "metadata": {},
   "source": [
    "# Vision || EPOCH Laboratory"
   ]
  },
  {
   "cell_type": "code",
   "execution_count": 1,
   "id": "8a0df6ed",
   "metadata": {},
   "outputs": [
    {
     "name": "stdout",
     "output_type": "stream",
     "text": [
      "Populating the interactive namespace from numpy and matplotlib\n"
     ]
    }
   ],
   "source": [
    "%pylab inline\n",
    "import gym, random, cv2\n",
    "\n",
    "from skimage import transform\n",
    "from collections import deque\n",
    "from IPython.display import clear_output"
   ]
  },
  {
   "cell_type": "code",
   "execution_count": 2,
   "id": "52f7a5ab",
   "metadata": {},
   "outputs": [],
   "source": [
    "env = gym.make(\"Pong-v0\")"
   ]
  },
  {
   "cell_type": "code",
   "execution_count": 3,
   "id": "278238fb",
   "metadata": {},
   "outputs": [
    {
     "name": "stdout",
     "output_type": "stream",
     "text": [
      "Frame: Box(210, 160, 3)\n",
      "States: 210\n",
      "Actions: 6\n"
     ]
    },
    {
     "data": {
      "text/plain": [
       "['NOOP', 'FIRE', 'RIGHT', 'LEFT', 'RIGHTFIRE', 'LEFTFIRE']"
      ]
     },
     "execution_count": 3,
     "metadata": {},
     "output_type": "execute_result"
    }
   ],
   "source": [
    "screen_space = env.observation_space\n",
    "num_states = env.observation_space.shape\n",
    "action_space = env.action_space.n\n",
    "\n",
    "print('Frame:', screen_space)\n",
    "print('States:', num_states[0])\n",
    "print('Actions:', action_space)\n",
    "\n",
    "env.env.get_action_meanings()"
   ]
  },
  {
   "cell_type": "code",
   "execution_count": 4,
   "id": "46ed88de",
   "metadata": {},
   "outputs": [
    {
     "data": {
      "image/png": "[encoded data removed]",
      "text/plain": [
       "<Figure size 432x288 with 1 Axes>"
      ]
     },
     "metadata": {
      "needs_background": "light"
     },
     "output_type": "display_data"
    }
   ],
   "source": [
    "state = env.reset()\n",
    "for i in range(100):\n",
    "    clear_output(wait=True)\n",
    "    action = np.random.choice(action_space)\n",
    "    x_state, _, _, _ = env.step(action)\n",
    "    plt.imshow(x_state)\n",
    "    plt.show()"
   ]
  },
  {
   "cell_type": "code",
   "execution_count": 5,
   "id": "cfce8a1a",
   "metadata": {},
   "outputs": [],
   "source": [
    "INPUT_SHAPE = [84, 84]\n",
    "WINDOW_DEPTH = 4\n",
    "\n",
    "BATCH_SIZE = 64\n",
    "MAX_STEPS_PER_EPISODE = 100"
   ]
  },
  {
   "cell_type": "code",
   "execution_count": 6,
   "id": "e9016ac8",
   "metadata": {},
   "outputs": [],
   "source": [
    "def process_frame(frame):\n",
    "    img = frame[25:-8,:]\n",
    "    img = img.mean(axis=2)\n",
    "    img = transform.resize(img, INPUT_SHAPE)\n",
    "    n_img = img / 255.0  \n",
    "    \n",
    "    return n_img"
   ]
  },
  {
   "cell_type": "code",
   "execution_count": 7,
   "id": "8382f483",
   "metadata": {},
   "outputs": [
    {
     "data": {
      "text/plain": [
       "<matplotlib.colorbar.Colorbar at 0x7f1c191eda50>"
      ]
     },
     "execution_count": 7,
     "metadata": {},
     "output_type": "execute_result"
    },
    {
     "data": {
      "image/png": "[encoded data removed]",
      "text/plain": [
       "<Figure size 432x288 with 2 Axes>"
      ]
     },
     "metadata": {
      "needs_background": "light"
     },
     "output_type": "display_data"
    }
   ],
   "source": [
    "img = process_frame(x_state)\n",
    "plt.imshow(img, cmap=\"gray\")\n",
    "plt.colorbar()"
   ]
  },
  {
   "cell_type": "code",
   "execution_count": 8,
   "id": "be986145",
   "metadata": {},
   "outputs": [],
   "source": [
    "def frame_buffer(stack_frames, state, new_episode):\n",
    "    frame = process_frame(state)\n",
    "    \n",
    "    if new_episode:\n",
    "        for _ in range(4):\n",
    "            stack_frames.append(frame)\n",
    "    \n",
    "    else:\n",
    "        stack_frames.append(frame)\n",
    "\n",
    "    stack_state = np.stack(stack_frames, axis=2)\n",
    "    \n",
    "    return stack_state, stack_frames"
   ]
  },
  {
   "cell_type": "code",
   "execution_count": 9,
   "id": "5345dc6b",
   "metadata": {},
   "outputs": [],
   "source": [
    "def add_memory(experience):\n",
    "    return memory.append(experience)"
   ]
  },
  {
   "cell_type": "code",
   "execution_count": 10,
   "id": "b503e92a",
   "metadata": {},
   "outputs": [],
   "source": [
    "def sample(BATCH_SIZE):\n",
    "    mem_size = len(memory)\n",
    "    index = np.random.choice(np.arange(buffer_size), size=BATCH_SIZE, replace=False)\n",
    "    return [memory[i] for i in index]"
   ]
  },
  {
   "cell_type": "code",
   "execution_count": 11,
   "id": "8ad0f970",
   "metadata": {},
   "outputs": [],
   "source": [
    "memory = deque(maxlen=20000)"
   ]
  },
  {
   "cell_type": "code",
   "execution_count": 12,
   "id": "30462763",
   "metadata": {},
   "outputs": [],
   "source": [
    "stack_frames = deque([np.zeros(INPUT_SHAPE, dtype=int) for i in range(WINDOW_DEPTH)], maxlen=4)"
   ]
  },
  {
   "cell_type": "code",
   "execution_count": 13,
   "id": "d3091bba",
   "metadata": {},
   "outputs": [],
   "source": [
    "state = env.reset()\n",
    "state, stack_frames = frame_buffer(stack_frames, state, True)"
   ]
  },
  {
   "cell_type": "code",
   "execution_count": 14,
   "id": "c8ace3c5",
   "metadata": {},
   "outputs": [],
   "source": [
    "for i in range(MAX_STEPS_PER_EPISODE):\n",
    "    action = np.random.choice(action_space)\n",
    "    n_state, reward, done, _ = env.step(action)\n",
    "    \n",
    "    n_state, stack_frames = frame_buffer(stack_frames, n_state, False)\n",
    "    \n",
    "    if done:\n",
    "        n_state = np.zeros(WINDOW_SIZE)\n",
    "        add_memory((state, action, reward, n_state, done))\n",
    "        state = env.reset()\n",
    "        state, stack_frames = frame_buffer(stack_frames, state, True)\n",
    "    else:\n",
    "        add_memory((state, action, reward, n_state, done))\n",
    "        state = n_state"
   ]
  },
  {
   "cell_type": "code",
   "execution_count": 15,
   "id": "68a3d907",
   "metadata": {
    "scrolled": true
   },
   "outputs": [
    {
     "name": "stdout",
     "output_type": "stream",
     "text": [
      "deque([array([[0.9254902, 0.9254902, 0.9254902, ..., 0.9254902, 0.9254902,\n",
      "        0.9254902],\n",
      "       [0.9254902, 0.9254902, 0.9254902, ..., 0.9254902, 0.9254902,\n",
      "        0.9254902],\n",
      "       [0.9254902, 0.9254902, 0.9254902, ..., 0.9254902, 0.9254902,\n",
      "        0.9254902],\n",
      "       ...,\n",
      "       [0.9254902, 0.9254902, 0.9254902, ..., 0.9254902, 0.9254902,\n",
      "        0.9254902],\n",
      "       [0.9254902, 0.9254902, 0.9254902, ..., 0.9254902, 0.9254902,\n",
      "        0.9254902],\n",
      "       [0.9254902, 0.9254902, 0.9254902, ..., 0.9254902, 0.9254902,\n",
      "        0.9254902]]), array([[0.9254902, 0.9254902, 0.9254902, ..., 0.9254902, 0.9254902,\n",
      "        0.9254902],\n",
      "       [0.9254902, 0.9254902, 0.9254902, ..., 0.9254902, 0.9254902,\n",
      "        0.9254902],\n",
      "       [0.9254902, 0.9254902, 0.9254902, ..., 0.9254902, 0.9254902,\n",
      "        0.9254902],\n",
      "       ...,\n",
      "       [0.9254902, 0.9254902, 0.9254902, ..., 0.9254902, 0.9254902,\n",
      "        0.9254902],\n",
      "       [0.9254902, 0.9254902, 0.9254902, ..., 0.9254902, 0.9254902,\n",
      "        0.9254902],\n",
      "       [0.9254902, 0.9254902, 0.9254902, ..., 0.9254902, 0.9254902,\n",
      "        0.9254902]]), array([[0.9254902, 0.9254902, 0.9254902, ..., 0.9254902, 0.9254902,\n",
      "        0.9254902],\n",
      "       [0.9254902, 0.9254902, 0.9254902, ..., 0.9254902, 0.9254902,\n",
      "        0.9254902],\n",
      "       [0.9254902, 0.9254902, 0.9254902, ..., 0.9254902, 0.9254902,\n",
      "        0.9254902],\n",
      "       ...,\n",
      "       [0.9254902, 0.9254902, 0.9254902, ..., 0.9254902, 0.9254902,\n",
      "        0.9254902],\n",
      "       [0.9254902, 0.9254902, 0.9254902, ..., 0.9254902, 0.9254902,\n",
      "        0.9254902],\n",
      "       [0.9254902, 0.9254902, 0.9254902, ..., 0.9254902, 0.9254902,\n",
      "        0.9254902]]), array([[0.9254902, 0.9254902, 0.9254902, ..., 0.9254902, 0.9254902,\n",
      "        0.9254902],\n",
      "       [0.9254902, 0.9254902, 0.9254902, ..., 0.9254902, 0.9254902,\n",
      "        0.9254902],\n",
      "       [0.9254902, 0.9254902, 0.9254902, ..., 0.9254902, 0.9254902,\n",
      "        0.9254902],\n",
      "       ...,\n",
      "       [0.9254902, 0.9254902, 0.9254902, ..., 0.9254902, 0.9254902,\n",
      "        0.9254902],\n",
      "       [0.9254902, 0.9254902, 0.9254902, ..., 0.9254902, 0.9254902,\n",
      "        0.9254902],\n",
      "       [0.9254902, 0.9254902, 0.9254902, ..., 0.9254902, 0.9254902,\n",
      "        0.9254902]])], maxlen=4)\n"
     ]
    },
    {
     "data": {
      "text/plain": [
       "<matplotlib.image.AxesImage at 0x7f1c19a50950>"
      ]
     },
     "execution_count": 15,
     "metadata": {},
     "output_type": "execute_result"
    },
    {
     "data": {
      "image/png": "[encoded data removed]",
      "text/plain": [
       "<Figure size 432x288 with 1 Axes>"
      ]
     },
     "metadata": {
      "needs_background": "light"
     },
     "output_type": "display_data"
    }
   ],
   "source": [
    "print(stack_frames)\n",
    "plt.imshow(state)"
   ]
  },
  {
   "cell_type": "code",
   "execution_count": 16,
   "id": "d8cbc5cd",
   "metadata": {},
   "outputs": [],
   "source": [
    "def viewslice(state, count):\n",
    "    frame = np.array(state)\n",
    "    frame = processed_frame = np.repeat(frame[:, :, count, np.newaxis], 3, axis=2)\n",
    "    frame = cv2.resize(frame, dsize=(screen_space.shape[1], screen_space.shape[0]))\n",
    "    return frame"
   ]
  },
  {
   "cell_type": "code",
   "execution_count": 17,
   "id": "43a43982",
   "metadata": {},
   "outputs": [
    {
     "data": {
      "image/png": "[encoded data removed]",
      "text/plain": [
       "<Figure size 2160x2160 with 4 Axes>"
      ]
     },
     "metadata": {
      "needs_background": "light"
     },
     "output_type": "display_data"
    }
   ],
   "source": [
    "nplot = 4\n",
    "\n",
    "fig = plt.figure(figsize=(30,30))\n",
    "for count in range(1, nplot+1):\n",
    "    frame = viewslice(state, count-1)\n",
    "    ax = fig.add_subplot(1,nplot,count)\n",
    "    ax.imshow(frame)"
   ]
  }
 ],
 "metadata": {
  "kernelspec": {
   "display_name": "Python 3",
   "language": "python",
   "name": "python3"
  },
  "language_info": {
   "codemirror_mode": {
    "name": "ipython",
    "version": 3
   },
   "file_extension": ".py",
   "mimetype": "text/x-python",
   "name": "python",
   "nbconvert_exporter": "python",
   "pygments_lexer": "ipython3",
   "version": "3.7.10"
  }
 },
 "nbformat": 4,
 "nbformat_minor": 5
}
